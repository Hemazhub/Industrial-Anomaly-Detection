{
 "cells": [
  {
   "cell_type": "code",
   "execution_count": 4,
   "id": "296a2cda-7fe1-4765-9b3d-eefb7f12c003",
   "metadata": {},
   "outputs": [],
   "source": [
    "import numpy as np\n",
    "import pandas as pd\n",
    "import matplotlib.pyplot as plt\n",
    "import seaborn as sns\n",
    "import warnings\n",
    "warnings.filterwarnings(\"ignore\")"
   ]
  },
  {
   "cell_type": "code",
   "execution_count": 5,
   "id": "0e24c01f-d5c7-4a31-afa2-7261ba075c5c",
   "metadata": {},
   "outputs": [],
   "source": [
    "df=pd.read_csv(\"C:\\Guvi_projects\\sensor_data.csv\")"
   ]
  },
  {
   "cell_type": "code",
   "execution_count": 6,
   "id": "8a1ac0ca-6d37-4676-98b3-1f415628ee13",
   "metadata": {},
   "outputs": [
    {
     "data": {
      "text/html": [
       "<div>\n",
       "<style scoped>\n",
       "    .dataframe tbody tr th:only-of-type {\n",
       "        vertical-align: middle;\n",
       "    }\n",
       "\n",
       "    .dataframe tbody tr th {\n",
       "        vertical-align: top;\n",
       "    }\n",
       "\n",
       "    .dataframe thead th {\n",
       "        text-align: right;\n",
       "    }\n",
       "</style>\n",
       "<table border=\"1\" class=\"dataframe\">\n",
       "  <thead>\n",
       "    <tr style=\"text-align: right;\">\n",
       "      <th></th>\n",
       "      <th>Timestamp</th>\n",
       "      <th>Boiler Name</th>\n",
       "      <th>Temperature</th>\n",
       "      <th>Anomaly</th>\n",
       "    </tr>\n",
       "  </thead>\n",
       "  <tbody>\n",
       "    <tr>\n",
       "      <th>0</th>\n",
       "      <td>2023-01-23 00:58:20</td>\n",
       "      <td>Boiler A</td>\n",
       "      <td>20.180428</td>\n",
       "      <td>0</td>\n",
       "    </tr>\n",
       "    <tr>\n",
       "      <th>1</th>\n",
       "      <td>2023-01-30 06:30:08</td>\n",
       "      <td>Boiler A</td>\n",
       "      <td>23.372948</td>\n",
       "      <td>0</td>\n",
       "    </tr>\n",
       "    <tr>\n",
       "      <th>2</th>\n",
       "      <td>2023-01-03 10:47:23</td>\n",
       "      <td>Boiler A</td>\n",
       "      <td>29.858208</td>\n",
       "      <td>0</td>\n",
       "    </tr>\n",
       "    <tr>\n",
       "      <th>3</th>\n",
       "      <td>2023-01-03 17:10:50</td>\n",
       "      <td>Boiler C</td>\n",
       "      <td>20.564032</td>\n",
       "      <td>0</td>\n",
       "    </tr>\n",
       "    <tr>\n",
       "      <th>4</th>\n",
       "      <td>2023-01-04 17:50:22</td>\n",
       "      <td>Boiler D</td>\n",
       "      <td>23.547024</td>\n",
       "      <td>0</td>\n",
       "    </tr>\n",
       "  </tbody>\n",
       "</table>\n",
       "</div>"
      ],
      "text/plain": [
       "             Timestamp Boiler Name  Temperature  Anomaly\n",
       "0  2023-01-23 00:58:20    Boiler A    20.180428        0\n",
       "1  2023-01-30 06:30:08    Boiler A    23.372948        0\n",
       "2  2023-01-03 10:47:23    Boiler A    29.858208        0\n",
       "3  2023-01-03 17:10:50    Boiler C    20.564032        0\n",
       "4  2023-01-04 17:50:22    Boiler D    23.547024        0"
      ]
     },
     "execution_count": 6,
     "metadata": {},
     "output_type": "execute_result"
    }
   ],
   "source": [
    "df.head()"
   ]
  },
  {
   "cell_type": "code",
   "execution_count": 51,
   "id": "79cd510b-f65a-49fc-9b30-1fe55774e767",
   "metadata": {},
   "outputs": [
    {
     "name": "stdout",
     "output_type": "stream",
     "text": [
      "<class 'pandas.core.frame.DataFrame'>\n",
      "RangeIndex: 1000 entries, 0 to 999\n",
      "Data columns (total 4 columns):\n",
      " #   Column       Non-Null Count  Dtype         \n",
      "---  ------       --------------  -----         \n",
      " 0   Timestamp    1000 non-null   datetime64[ns]\n",
      " 1   Boiler Name  1000 non-null   object        \n",
      " 2   Temperature  1000 non-null   float64       \n",
      " 3   Anomaly      1000 non-null   int64         \n",
      "dtypes: datetime64[ns](1), float64(1), int64(1), object(1)\n",
      "memory usage: 31.4+ KB\n"
     ]
    }
   ],
   "source": [
    "df.info()"
   ]
  },
  {
   "cell_type": "code",
   "execution_count": 8,
   "id": "1c08207a-e7bf-4bad-bcef-87a724d7e98a",
   "metadata": {},
   "outputs": [
    {
     "data": {
      "text/plain": [
       "Timestamp      0\n",
       "Boiler Name    0\n",
       "Temperature    0\n",
       "Anomaly        0\n",
       "dtype: int64"
      ]
     },
     "execution_count": 8,
     "metadata": {},
     "output_type": "execute_result"
    }
   ],
   "source": [
    "df.isnull().sum()"
   ]
  },
  {
   "cell_type": "code",
   "execution_count": 50,
   "id": "c645573e-dd7f-4dcc-961f-1c406111b5be",
   "metadata": {},
   "outputs": [
    {
     "name": "stdout",
     "output_type": "stream",
     "text": [
      "<class 'pandas.core.frame.DataFrame'>\n",
      "RangeIndex: 1000 entries, 0 to 999\n",
      "Data columns (total 4 columns):\n",
      " #   Column       Non-Null Count  Dtype         \n",
      "---  ------       --------------  -----         \n",
      " 0   Timestamp    1000 non-null   datetime64[ns]\n",
      " 1   Boiler Name  1000 non-null   object        \n",
      " 2   Temperature  1000 non-null   float64       \n",
      " 3   Anomaly      1000 non-null   int64         \n",
      "dtypes: datetime64[ns](1), float64(1), int64(1), object(1)\n",
      "memory usage: 31.4+ KB\n"
     ]
    }
   ],
   "source": [
    "df.info()"
   ]
  },
  {
   "cell_type": "code",
   "execution_count": 25,
   "id": "8350a0b9-a305-4408-8ab0-19b084ae1656",
   "metadata": {},
   "outputs": [
    {
     "data": {
      "text/plain": [
       "array([0, 1], dtype=int64)"
      ]
     },
     "execution_count": 25,
     "metadata": {},
     "output_type": "execute_result"
    }
   ],
   "source": [
    "df[\"Anomaly\"].unique()"
   ]
  },
  {
   "cell_type": "code",
   "execution_count": 26,
   "id": "222f3199-cb44-4c5a-901f-e672d380ccd2",
   "metadata": {},
   "outputs": [
    {
     "data": {
      "text/plain": [
       "array(['Boiler A', 'Boiler C', 'Boiler D', 'Boiler B'], dtype=object)"
      ]
     },
     "execution_count": 26,
     "metadata": {},
     "output_type": "execute_result"
    }
   ],
   "source": [
    "df[\"Boiler Name\"].unique()"
   ]
  },
  {
   "cell_type": "code",
   "execution_count": 27,
   "id": "5041a406-74b4-4bd2-a764-0228ae1ed0ea",
   "metadata": {},
   "outputs": [],
   "source": [
    "#Visualization"
   ]
  },
  {
   "cell_type": "code",
   "execution_count": 28,
   "id": "d00dd0fa-adae-46e4-a94b-82492d23321b",
   "metadata": {
    "scrolled": true
   },
   "outputs": [
    {
     "data": {
      "image/png": "[encoded data removed]",
      "text/plain": [
       "<Figure size 864x288 with 1 Axes>"
      ]
     },
     "metadata": {
      "needs_background": "light"
     },
     "output_type": "display_data"
    }
   ],
   "source": [
    "plt.figure(figsize=(12,4))\n",
    "a = df.groupby('Boiler Name')['Temperature'].sum()\n",
    "a = pd.DataFrame(a)\n",
    "sns.barplot(data=a,x=a.index,y='Temperature')\n",
    "plt.xticks(rotation=90)\n",
    "plt.show()"
   ]
  },
  {
   "cell_type": "code",
   "execution_count": 29,
   "id": "927e9b2e-d2d0-491d-aaaf-240be5fa9e05",
   "metadata": {},
   "outputs": [
    {
     "data": {
      "image/png": "[encoded data removed]",
      "text/plain": [
       "<Figure size 720x576 with 2 Axes>"
      ]
     },
     "metadata": {
      "needs_background": "light"
     },
     "output_type": "display_data"
    }
   ],
   "source": [
    "numeric_data = df.select_dtypes(include=['float64', 'int64'])\n",
    "plt.figure(figsize=(10, 8))\n",
    "sns.heatmap(numeric_data.corr(),annot=True,cmap='RdBu', fmt=\".2f\")\n",
    "plt.show()"
   ]
  },
  {
   "cell_type": "code",
   "execution_count": 30,
   "id": "4691476a-8346-46ec-8fe8-2325c973a757",
   "metadata": {},
   "outputs": [
    {
     "data": {
      "image/png": "[encoded data removed]",
      "text/plain": [
       "<Figure size 432x288 with 1 Axes>"
      ]
     },
     "metadata": {
      "needs_background": "light"
     },
     "output_type": "display_data"
    }
   ],
   "source": [
    "sns.countplot(df, x='Anomaly')\n",
    "plt.xticks(rotation=90)\n",
    "plt.show()"
   ]
  },
  {
   "cell_type": "code",
   "execution_count": 31,
   "id": "32a13c25-33c9-45b2-87c9-be24f9885130",
   "metadata": {},
   "outputs": [
    {
     "data": {
      "text/plain": [
       "Anomaly\n",
       "0    976\n",
       "1     24\n",
       "Name: count, dtype: int64"
      ]
     },
     "execution_count": 31,
     "metadata": {},
     "output_type": "execute_result"
    }
   ],
   "source": [
    "df.Anomaly.value_counts()"
   ]
  },
  {
   "cell_type": "code",
   "execution_count": 32,
   "id": "de86fb84-0c49-42fc-a016-1d3860deb699",
   "metadata": {},
   "outputs": [],
   "source": [
    "data = df.copy()"
   ]
  },
  {
   "cell_type": "code",
   "execution_count": 33,
   "id": "b427d75b-34ba-4e91-8611-094730ec44f9",
   "metadata": {},
   "outputs": [
    {
     "data": {
      "text/html": [
       "<div>\n",
       "<style scoped>\n",
       "    .dataframe tbody tr th:only-of-type {\n",
       "        vertical-align: middle;\n",
       "    }\n",
       "\n",
       "    .dataframe tbody tr th {\n",
       "        vertical-align: top;\n",
       "    }\n",
       "\n",
       "    .dataframe thead th {\n",
       "        text-align: right;\n",
       "    }\n",
       "</style>\n",
       "<table border=\"1\" class=\"dataframe\">\n",
       "  <thead>\n",
       "    <tr style=\"text-align: right;\">\n",
       "      <th></th>\n",
       "      <th>Timestamp</th>\n",
       "      <th>Boiler Name</th>\n",
       "      <th>Temperature</th>\n",
       "      <th>Anomaly</th>\n",
       "    </tr>\n",
       "  </thead>\n",
       "  <tbody>\n",
       "    <tr>\n",
       "      <th>0</th>\n",
       "      <td>2023-01-23 00:58:20</td>\n",
       "      <td>Boiler A</td>\n",
       "      <td>20.180428</td>\n",
       "      <td>0</td>\n",
       "    </tr>\n",
       "    <tr>\n",
       "      <th>1</th>\n",
       "      <td>2023-01-30 06:30:08</td>\n",
       "      <td>Boiler A</td>\n",
       "      <td>23.372948</td>\n",
       "      <td>0</td>\n",
       "    </tr>\n",
       "    <tr>\n",
       "      <th>2</th>\n",
       "      <td>2023-01-03 10:47:23</td>\n",
       "      <td>Boiler A</td>\n",
       "      <td>29.858208</td>\n",
       "      <td>0</td>\n",
       "    </tr>\n",
       "    <tr>\n",
       "      <th>3</th>\n",
       "      <td>2023-01-03 17:10:50</td>\n",
       "      <td>Boiler C</td>\n",
       "      <td>20.564032</td>\n",
       "      <td>0</td>\n",
       "    </tr>\n",
       "    <tr>\n",
       "      <th>4</th>\n",
       "      <td>2023-01-04 17:50:22</td>\n",
       "      <td>Boiler D</td>\n",
       "      <td>23.547024</td>\n",
       "      <td>0</td>\n",
       "    </tr>\n",
       "  </tbody>\n",
       "</table>\n",
       "</div>"
      ],
      "text/plain": [
       "            Timestamp Boiler Name  Temperature  Anomaly\n",
       "0 2023-01-23 00:58:20    Boiler A    20.180428        0\n",
       "1 2023-01-30 06:30:08    Boiler A    23.372948        0\n",
       "2 2023-01-03 10:47:23    Boiler A    29.858208        0\n",
       "3 2023-01-03 17:10:50    Boiler C    20.564032        0\n",
       "4 2023-01-04 17:50:22    Boiler D    23.547024        0"
      ]
     },
     "execution_count": 33,
     "metadata": {},
     "output_type": "execute_result"
    }
   ],
   "source": [
    "data.head()"
   ]
  },
  {
   "cell_type": "code",
   "execution_count": 60,
   "id": "b1da254e-0723-4ef7-bd71-eca243f2f120",
   "metadata": {},
   "outputs": [],
   "source": [
    "x = data[[\"Temperature\"]]\n",
    "y = data[\"Anomaly\"]"
   ]
  },
  {
   "cell_type": "code",
   "execution_count": 63,
   "id": "94b05e34-19bb-40a8-abd9-b41e4b54feb6",
   "metadata": {},
   "outputs": [],
   "source": [
    "from sklearn.ensemble import IsolationForest\n",
    "from sklearn.model_selection import train_test_split\n",
    "from sklearn.metrics import classification_report, confusion_matrix"
   ]
  },
  {
   "cell_type": "code",
   "execution_count": 64,
   "id": "7a8a5b86-98ee-4648-af7e-c1a58a509033",
   "metadata": {},
   "outputs": [],
   "source": [
    "# Split the data into training and testing sets\n",
    "x_train, x_test, y_train, y_test = train_test_split(x, y, test_size=0.2, random_state=42)"
   ]
  },
  {
   "cell_type": "code",
   "execution_count": 66,
   "id": "88ab177f-674e-4b95-b2e4-81eae313a883",
   "metadata": {},
   "outputs": [
    {
     "data": {
      "text/plain": [
       "IsolationForest(contamination=0.05)"
      ]
     },
     "execution_count": 66,
     "metadata": {},
     "output_type": "execute_result"
    }
   ],
   "source": [
    "# Train the Isolation Forest model\n",
    "model = IsolationForest(contamination=0.05)  # Adjust contamination based on your problem\n",
    "model.fit(x_train)"
   ]
  },
  {
   "cell_type": "code",
   "execution_count": 68,
   "id": "9ea58124-76d3-4690-9c01-f2d26b048546",
   "metadata": {},
   "outputs": [],
   "source": [
    "# Make predictions on the test set\n",
    "predictions = model.predict(x_test)"
   ]
  },
  {
   "cell_type": "code",
   "execution_count": 69,
   "id": "f4a8ed4d-a571-49c4-ad87-00bbae32b69e",
   "metadata": {},
   "outputs": [],
   "source": [
    "# Convert predictions to binary (1 for anomaly, -1 for normal)\n",
    "predictions_binary = [1 if pred == -1 else 0 for pred in predictions]"
   ]
  },
  {
   "cell_type": "code",
   "execution_count": 73,
   "id": "25ee599a-66d0-4754-8456-367fd844308a",
   "metadata": {},
   "outputs": [
    {
     "name": "stdout",
     "output_type": "stream",
     "text": [
      "              precision    recall  f1-score   support\n",
      "\n",
      "           0       1.00      0.98      0.99       199\n",
      "           1       0.25      1.00      0.40         1\n",
      "\n",
      "    accuracy                           0.98       200\n",
      "   macro avg       0.62      0.99      0.70       200\n",
      "weighted avg       1.00      0.98      0.99       200\n",
      "\n",
      "[[196   3]\n",
      " [  0   1]]\n"
     ]
    }
   ],
   "source": [
    "# Evaluate the model\n",
    "print(classification_report(y_test, predictions_binary))\n",
    "print(confusion_matrix(y_test, predictions_binary))"
   ]
  },
  {
   "cell_type": "code",
   "execution_count": 74,
   "id": "186762b0-62d7-4439-8428-c17049963b39",
   "metadata": {},
   "outputs": [
    {
     "name": "stdout",
     "output_type": "stream",
     "text": [
      "Accuracy Score: 0.985\n"
     ]
    }
   ],
   "source": [
    "# Print the accuracy score\n",
    "accuracy = accuracy_score(y_test, predictions_binary)\n",
    "print(f\"Accuracy Score: {accuracy}\")"
   ]
  },
  {
   "cell_type": "code",
   "execution_count": null,
   "id": "81c46a0c-27bb-4bbe-86ff-1d33924e985a",
   "metadata": {},
   "outputs": [],
   "source": []
  }
 ],
 "metadata": {
  "kernelspec": {
   "display_name": "Python 3 (ipykernel)",
   "language": "python",
   "name": "python3"
  },
  "language_info": {
   "codemirror_mode": {
    "name": "ipython",
    "version": 3
   },
   "file_extension": ".py",
   "mimetype": "text/x-python",
   "name": "python",
   "nbconvert_exporter": "python",
   "pygments_lexer": "ipython3",
   "version": "3.9.6"
  }
 },
 "nbformat": 4,
 "nbformat_minor": 5
}
